{
  "nbformat": 4,
  "nbformat_minor": 0,
  "metadata": {
    "colab": {
      "name": "Single_Channel_Problem.ipynb",
      "provenance": [],
      "collapsed_sections": [],
      "include_colab_link": true
    },
    "kernelspec": {
      "name": "python3",
      "display_name": "Python 3"
    },
    "language_info": {
      "name": "python"
    },
    "accelerator": "TPU"
  },
  "cells": [
    {
      "cell_type": "markdown",
      "metadata": {
        "id": "view-in-github",
        "colab_type": "text"
      },
      "source": [
        "<a href=\"https://colab.research.google.com/github/subashis-dev/Code/blob/main/Single_Channel_Problem.ipynb\" target=\"_parent\"><img src=\"https://colab.research.google.com/assets/colab-badge.svg\" alt=\"Open In Colab\"/></a>"
      ]
    },
    {
      "cell_type": "code",
      "metadata": {
        "id": "bjNVYCuRrOgs"
      },
      "source": [
        "import math"
      ],
      "execution_count": null,
      "outputs": []
    },
    {
      "cell_type": "code",
      "metadata": {
        "id": "DR49wOkUmB9F"
      },
      "source": [
        "\n",
        "# import matplotlib\n",
        "import matplotlib.pyplot as plt\n",
        "# for latex equations\n",
        "from IPython.display import Math, Latex\n",
        "# for displaying images\n",
        "from IPython.core.display import Image"
      ],
      "execution_count": null,
      "outputs": []
    },
    {
      "cell_type": "code",
      "metadata": {
        "id": "oYqOPjzym3UU"
      },
      "source": [
        "import seaborn as sns\n",
        "# settings for seaborn plotting style\n",
        "sns.set(color_codes=True)\n",
        "# settings for seaborn plot sizes\n",
        "sns.set(rc={'figure.figsize':(5,5)})"
      ],
      "execution_count": null,
      "outputs": []
    },
    {
      "cell_type": "code",
      "metadata": {
        "colab": {
          "base_uri": "https://localhost:8080/"
        },
        "id": "wzQ4nbn8nWUT",
        "outputId": "260d6762-80a2-4b8d-b3f3-3fe8e93d4171"
      },
      "source": [
        "from scipy.stats import poisson\n",
        "Interarrival_Time = poisson.rvs(mu=5.6, size=19)\n",
        "\n",
        "print(Interarrival_Time)"
      ],
      "execution_count": null,
      "outputs": [
        {
          "output_type": "stream",
          "text": [
            "[3 7 8 4 7 2 9 4 6 8 2 3 4 3 7 7 7 8 5]\n"
          ],
          "name": "stdout"
        }
      ]
    },
    {
      "cell_type": "code",
      "metadata": {
        "id": "_sb0u91JwwMQ"
      },
      "source": [
        "sum = 0\n",
        "arrival_Time = [0]\n",
        "for i in Interarrival_Time:\n",
        "  sum += i\n",
        "  arrival_Time.append(sum)"
      ],
      "execution_count": null,
      "outputs": []
    },
    {
      "cell_type": "code",
      "metadata": {
        "colab": {
          "base_uri": "https://localhost:8080/"
        },
        "id": "PYTIVH1-xpEe",
        "outputId": "6836118b-9f31-4f20-83ce-3ec080ab5f70"
      },
      "source": [
        "print(arrival_Time)"
      ],
      "execution_count": null,
      "outputs": [
        {
          "output_type": "stream",
          "text": [
            "[0, 3, 10, 18, 22, 29, 31, 40, 44, 50, 58, 60, 63, 67, 70, 77, 84, 91, 99, 104]\n"
          ],
          "name": "stdout"
        }
      ]
    },
    {
      "cell_type": "code",
      "metadata": {
        "colab": {
          "base_uri": "https://localhost:8080/"
        },
        "id": "Jq-iYl8GtqDm",
        "outputId": "422c27cb-c7c4-4895-d266-2412d09a3024"
      },
      "source": [
        "from scipy.stats import expon\n",
        "Service_Time = expon.rvs(scale=1,loc=0.6,size=20)\n",
        "\n",
        "for i in Service_Time:\n",
        "  print(i)"
      ],
      "execution_count": null,
      "outputs": [
        {
          "output_type": "stream",
          "text": [
            "1.332824335330068\n",
            "0.24325344815590813\n",
            "0.8869010209561086\n",
            "0.5477209550998744\n",
            "0.6873009014667352\n",
            "0.4303227180507525\n",
            "0.7198166215231685\n",
            "0.4335088722627679\n",
            "0.7403967268322335\n",
            "3.0244498686595156\n",
            "0.12210001433120973\n",
            "0.4018439669202876\n",
            "0.06256201887793349\n",
            "0.6218144149513434\n",
            "1.667922129144033\n",
            "0.954883654618866\n",
            "1.693070427345174\n",
            "0.7986384317073483\n",
            "0.13599841462259704\n",
            "0.7802729435769967\n"
          ],
          "name": "stdout"
        }
      ]
    },
    {
      "cell_type": "code",
      "metadata": {
        "id": "04I5OaVqTE-E"
      },
      "source": [
        "Time_service_begins = [0]\n",
        "Time_service_ends = []\n",
        "\n",
        "for x in range(0, 20):\n",
        "  if(x>0):\n",
        "    Time_service_begins.append(max(arrival_Time[x], Time_service_ends[x-1]))\n",
        "    \n",
        "  Time_service_ends.append(Service_Time[x] + Time_service_begins[x])"
      ],
      "execution_count": null,
      "outputs": []
    },
    {
      "cell_type": "code",
      "metadata": {
        "colab": {
          "base_uri": "https://localhost:8080/"
        },
        "id": "X6tETEkfbttU",
        "outputId": "6b57dcb0-e308-48f3-d9c7-8ca41f32e7ec"
      },
      "source": [
        "print(\"Service Time begin\")\n",
        "for i in Time_service_begins:\n",
        "  print(i)\n",
        "\n",
        "print(\"----------------\")\n",
        "print(\"\\nTime service ends\\n\")\n",
        "\n",
        "for i in Time_service_ends:\n",
        "  print(i)"
      ],
      "execution_count": null,
      "outputs": [
        {
          "output_type": "stream",
          "text": [
            "Service Time begin\n",
            "0\n",
            "3\n",
            "10\n",
            "18\n",
            "22\n",
            "29\n",
            "31\n",
            "40\n",
            "44\n",
            "50\n",
            "58\n",
            "60\n",
            "63\n",
            "67\n",
            "70\n",
            "77\n",
            "84\n",
            "91\n",
            "99\n",
            "104\n",
            "----------------\n",
            "\n",
            "Time service ends\n",
            "\n",
            "0.7583153724144388\n",
            "3.8954843679358673\n",
            "10.148490861107982\n",
            "19.194268883554205\n",
            "24.974734703333617\n",
            "30.929552942695494\n",
            "31.342093261790403\n",
            "41.15278787117668\n",
            "44.07323375424349\n",
            "54.30113963714237\n",
            "58.356696376429994\n",
            "60.53035948002783\n",
            "65.75101224081963\n",
            "67.62441766041962\n",
            "70.12483881941796\n",
            "77.12338180866257\n",
            "85.49018821060929\n",
            "91.1896894615698\n",
            "100.6429918917251\n",
            "104.09401029478627\n"
          ],
          "name": "stdout"
        }
      ]
    },
    {
      "cell_type": "code",
      "metadata": {
        "id": "V0T095NNgRf1"
      },
      "source": [
        "waiting_time = [0]\n",
        "\n",
        "for i in range(1,20):\n",
        "  if(arrival_Time[i]<Time_service_ends[i-1]):\n",
        "    waiting_time.append(Time_service_ends[i-1] - arrival_Time[i])\n",
        "  else:\n",
        "    waiting_time.append(0)\n",
        "\n",
        "total_waiting_time = 0\n",
        "count_customer_who_wait = 0\n",
        "\n",
        "\n",
        "for i in waiting_time:\n",
        "  total_waiting_time += i\n",
        "  if(i>0):\n",
        "    ++count_customer_who_wait\n",
        "\n",
        "  \n"
      ],
      "execution_count": null,
      "outputs": []
    },
    {
      "cell_type": "code",
      "metadata": {
        "colab": {
          "base_uri": "https://localhost:8080/"
        },
        "id": "wzuFHWoTUdJv",
        "outputId": "add6c6cd-41b3-4dbf-d9cf-ecd60c223fad"
      },
      "source": [
        "for i in waiting_time:\n",
        "  print(i)\n",
        "\n",
        "print(\"\\ntotal waiting time= \", total_waiting_time)\n",
        "print(\"total Customer who wait = \", count_customer_who_wait)"
      ],
      "execution_count": null,
      "outputs": [
        {
          "output_type": "stream",
          "text": [
            "0\n",
            "0\n",
            "0\n",
            "0\n",
            "0\n",
            "0\n",
            "0\n",
            "0\n",
            "0\n",
            "0\n",
            "0\n",
            "0\n",
            "0\n",
            "0\n",
            "0\n",
            "0\n",
            "0\n",
            "0\n",
            "0\n",
            "0\n",
            "\n",
            "total waiting time=  0\n",
            "total Customer who wait =  0\n"
          ],
          "name": "stdout"
        }
      ]
    },
    {
      "cell_type": "code",
      "metadata": {
        "id": "5eFftbqgiB4M"
      },
      "source": [
        "Time_customer_spends_in_System = []\n",
        "\n",
        "for i in range(0,20):\n",
        "  Time_customer_spends_in_System.append(Service_Time[i] + waiting_time[i])\n"
      ],
      "execution_count": null,
      "outputs": []
    },
    {
      "cell_type": "code",
      "metadata": {
        "colab": {
          "base_uri": "https://localhost:8080/"
        },
        "id": "UuSiehYaiyJk",
        "outputId": "3050bac3-9c8e-46d0-90c6-712450ffa46b"
      },
      "source": [
        "for i in Time_customer_spends_in_System:\n",
        "  print(i)"
      ],
      "execution_count": null,
      "outputs": [
        {
          "output_type": "stream",
          "text": [
            "1.332824335330068\n",
            "0.24325344815590813\n",
            "0.8869010209561086\n",
            "0.5477209550998744\n",
            "0.6873009014667352\n",
            "0.4303227180507525\n",
            "0.7198166215231685\n",
            "0.4335088722627679\n",
            "0.7403967268322335\n",
            "3.0244498686595156\n",
            "0.12210001433120973\n",
            "0.4018439669202876\n",
            "0.06256201887793349\n",
            "0.6218144149513434\n",
            "1.667922129144033\n",
            "0.954883654618866\n",
            "1.693070427345174\n",
            "0.7986384317073483\n",
            "0.13599841462259704\n",
            "0.7802729435769967\n"
          ],
          "name": "stdout"
        }
      ]
    },
    {
      "cell_type": "code",
      "metadata": {
        "id": "MDlwzyl8jd6j"
      },
      "source": [
        "idle_time_of_service = [0]\n",
        "\n",
        "for i in range(1, 20):\n",
        "  if(arrival_Time[i] > Time_service_ends[i - 1]):\n",
        "    idle_time_of_service.append(arrival_Time[i] - Time_service_ends[i - 1])\n",
        "  else:\n",
        "    idle_time_of_service.append(0)"
      ],
      "execution_count": null,
      "outputs": []
    },
    {
      "cell_type": "code",
      "metadata": {
        "colab": {
          "base_uri": "https://localhost:8080/"
        },
        "id": "4KoCCizxkQk1",
        "outputId": "fb48d852-8ac5-4565-a34e-f5aceabe225b"
      },
      "source": [
        "for i in idle_time_of_service:\n",
        "  print(i)"
      ],
      "execution_count": null,
      "outputs": [
        {
          "output_type": "stream",
          "text": [
            "0\n",
            "2.241684627585561\n",
            "6.104515632064133\n",
            "7.851509138892018\n",
            "2.805731116445795\n",
            "4.025265296666383\n",
            "0.07044705730450573\n",
            "8.657906738209597\n",
            "2.8472121288233225\n",
            "5.926766245756511\n",
            "3.69886036285763\n",
            "1.6433036235700058\n",
            "2.4696405199721667\n",
            "1.2489877591803662\n",
            "2.375582339580376\n",
            "6.87516118058204\n",
            "6.876618191337428\n",
            "5.50981178939071\n",
            "7.810310538430201\n",
            "3.357008108274897\n"
          ],
          "name": "stdout"
        }
      ]
    },
    {
      "cell_type": "code",
      "metadata": {
        "colab": {
          "base_uri": "https://localhost:8080/"
        },
        "id": "dJWCMaxNW3wb",
        "outputId": "ec7fec85-3773-4bb4-c28f-b1fcdf52dc2e"
      },
      "source": [
        "print(\"Customer\\t\", \"Interarrival Time\\t\", \"Arrival Time\\t\", \"Service Time\\t\", \"Time service begins\\t\", \"Waiting Time in Queue\\t\", \"Time service ends\\t\", \"Time Customer Spends in System\\t\", \"Idle Time of Server\")\n",
        "j = 0\n",
        "for i in range(0, 20):\n",
        "  print(\"  \",i+1 , '\\t\\t\\t' ,Interarrival_Time[i-1] if i>0 else \"-\", \"\\t\\t     \", arrival_Time[i], '\\t   ', round(Service_Time[i],2), '\\t\\t', round(Time_service_begins[i],2), '\\t\\t\\t', round(waiting_time[i],2), '\\t\\t\\t', round(Time_service_ends[i],1), '\\t\\t\\t\\t', round(Time_customer_spends_in_System[i],2), '\\t\\t\\t', round(idle_time_of_service[i],2))\n",
        "\n"
      ],
      "execution_count": null,
      "outputs": [
        {
          "output_type": "stream",
          "text": [
            "Customer\t Interarrival Time\t Arrival Time\t Service Time\t Time service begins\t Waiting Time in Queue\t Time service ends\t Time Customer Spends in System\t Idle Time of Server\n",
            "   1 \t\t\t - \t\t      0 \t    1.33 \t\t 0 \t\t\t 0 \t\t\t 0.8 \t\t\t\t 1.33 \t\t\t 0\n",
            "   2 \t\t\t 3 \t\t      3 \t    0.24 \t\t 3 \t\t\t 0 \t\t\t 3.9 \t\t\t\t 0.24 \t\t\t 2.24\n",
            "   3 \t\t\t 7 \t\t      10 \t    0.89 \t\t 10 \t\t\t 0 \t\t\t 10.1 \t\t\t\t 0.89 \t\t\t 6.1\n",
            "   4 \t\t\t 8 \t\t      18 \t    0.55 \t\t 18 \t\t\t 0 \t\t\t 19.2 \t\t\t\t 0.55 \t\t\t 7.85\n",
            "   5 \t\t\t 4 \t\t      22 \t    0.69 \t\t 22 \t\t\t 0 \t\t\t 25.0 \t\t\t\t 0.69 \t\t\t 2.81\n",
            "   6 \t\t\t 7 \t\t      29 \t    0.43 \t\t 29 \t\t\t 0 \t\t\t 30.9 \t\t\t\t 0.43 \t\t\t 4.03\n",
            "   7 \t\t\t 2 \t\t      31 \t    0.72 \t\t 31 \t\t\t 0 \t\t\t 31.3 \t\t\t\t 0.72 \t\t\t 0.07\n",
            "   8 \t\t\t 9 \t\t      40 \t    0.43 \t\t 40 \t\t\t 0 \t\t\t 41.2 \t\t\t\t 0.43 \t\t\t 8.66\n",
            "   9 \t\t\t 4 \t\t      44 \t    0.74 \t\t 44 \t\t\t 0 \t\t\t 44.1 \t\t\t\t 0.74 \t\t\t 2.85\n",
            "   10 \t\t\t 6 \t\t      50 \t    3.02 \t\t 50 \t\t\t 0 \t\t\t 54.3 \t\t\t\t 3.02 \t\t\t 5.93\n",
            "   11 \t\t\t 8 \t\t      58 \t    0.12 \t\t 58 \t\t\t 0 \t\t\t 58.4 \t\t\t\t 0.12 \t\t\t 3.7\n",
            "   12 \t\t\t 2 \t\t      60 \t    0.4 \t\t 60 \t\t\t 0 \t\t\t 60.5 \t\t\t\t 0.4 \t\t\t 1.64\n",
            "   13 \t\t\t 3 \t\t      63 \t    0.06 \t\t 63 \t\t\t 0 \t\t\t 65.8 \t\t\t\t 0.06 \t\t\t 2.47\n",
            "   14 \t\t\t 4 \t\t      67 \t    0.62 \t\t 67 \t\t\t 0 \t\t\t 67.6 \t\t\t\t 0.62 \t\t\t 1.25\n",
            "   15 \t\t\t 3 \t\t      70 \t    1.67 \t\t 70 \t\t\t 0 \t\t\t 70.1 \t\t\t\t 1.67 \t\t\t 2.38\n",
            "   16 \t\t\t 7 \t\t      77 \t    0.95 \t\t 77 \t\t\t 0 \t\t\t 77.1 \t\t\t\t 0.95 \t\t\t 6.88\n",
            "   17 \t\t\t 7 \t\t      84 \t    1.69 \t\t 84 \t\t\t 0 \t\t\t 85.5 \t\t\t\t 1.69 \t\t\t 6.88\n",
            "   18 \t\t\t 7 \t\t      91 \t    0.8 \t\t 91 \t\t\t 0 \t\t\t 91.2 \t\t\t\t 0.8 \t\t\t 5.51\n",
            "   19 \t\t\t 8 \t\t      99 \t    0.14 \t\t 99 \t\t\t 0 \t\t\t 100.6 \t\t\t\t 0.14 \t\t\t 7.81\n",
            "   20 \t\t\t 5 \t\t      104 \t    0.78 \t\t 104 \t\t\t 0 \t\t\t 104.1 \t\t\t\t 0.78 \t\t\t 3.36\n"
          ],
          "name": "stdout"
        }
      ]
    },
    {
      "cell_type": "code",
      "metadata": {
        "colab": {
          "base_uri": "https://localhost:8080/"
        },
        "id": "ZqQfjJOtUzBK",
        "outputId": "44cf637e-bc05-4716-e5d5-fef61cf7de79"
      },
      "source": [
        "average_number_of_customer_waiting = count_customer_who_wait / 20\n",
        "print(\"Average number of customer waiting = \", average_number_of_customer_waiting) \n",
        "\n",
        "average_waiting_time_for_a_customer = total_waiting_time / 20\n",
        "print(\"Average waiting time for a customer =\", average_waiting_time_for_a_customer)"
      ],
      "execution_count": null,
      "outputs": [
        {
          "output_type": "stream",
          "text": [
            "Average number of customer waiting =  0.0\n",
            "Average waiting time for a customer = 0.0\n"
          ],
          "name": "stdout"
        }
      ]
    }
  ]
}